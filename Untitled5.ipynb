{
  "nbformat": 4,
  "nbformat_minor": 0,
  "metadata": {
    "colab": {
      "provenance": [],
      "authorship_tag": "ABX9TyNbzZE3pfdab7VgFdtyiBj1",
      "include_colab_link": true
    },
    "kernelspec": {
      "name": "python3",
      "display_name": "Python 3"
    },
    "language_info": {
      "name": "python"
    }
  },
  "cells": [
    {
      "cell_type": "markdown",
      "metadata": {
        "id": "view-in-github",
        "colab_type": "text"
      },
      "source": [
        "<a href=\"https://colab.research.google.com/github/huram481/mini-guessing-game/blob/main/Untitled5.ipynb\" target=\"_parent\"><img src=\"https://colab.research.google.com/assets/colab-badge.svg\" alt=\"Open In Colab\"/></a>"
      ]
    },
    {
      "cell_type": "code",
      "execution_count": null,
      "metadata": {
        "id": "0kozxkNfrfjs"
      },
      "outputs": [],
      "source": []
    },
    {
      "cell_type": "markdown",
      "source": [
        "**TRY GUESSING NUMBER GAME***"
      ],
      "metadata": {
        "id": "-hZwlXTYriOH"
      }
    },
    {
      "cell_type": "code",
      "source": [
        "import random\n",
        "\n",
        "def guessing_game():\n",
        "    number = random.randint(1, 100)\n",
        "    attempts = 0\n",
        "    max_attempts = 10\n",
        "\n",
        "    print(\"Welcome to the Number Guessing Game!\")\n",
        "    print(\"You have 10 attempts to guess the correct number between 1 and 100.\")\n",
        "\n",
        "    while attempts < max_attempts:\n",
        "        try:\n",
        "            guess = int(input(f\"Attempt {attempts + 1}: Enter your guess: \"))\n",
        "            attempts += 1\n",
        "\n",
        "            if guess == number:\n",
        "                print(f\"Congratulations! You guessed the correct number in {attempts} attempts!\")\n",
        "                break\n",
        "            elif guess > number:\n",
        "                print(\"Too high! Try again.\")\n",
        "            else:\n",
        "                print(\"Too low! Try again.\")\n",
        "\n",
        "        except ValueError:\n",
        "            print(\"Invalid input. Please enter a number between 1 and 100.\")\n",
        "\n",
        "    if attempts == max_attempts and guess != number:\n",
        "        print(\"Sorry, you are out of attempts. The correct number was:\", number)\n",
        "\n",
        "if __name__ == \"__main__\":\n",
        "    guessing_game()"
      ],
      "metadata": {
        "colab": {
          "base_uri": "https://localhost:8080/"
        },
        "id": "XizXcHyrrv1u",
        "outputId": "e90383ca-ab02-405d-84b4-22fcb3f243f6"
      },
      "execution_count": 1,
      "outputs": [
        {
          "output_type": "stream",
          "name": "stdout",
          "text": [
            "Welcome to the Number Guessing Game!\n",
            "You have 10 attempts to guess the correct number between 1 and 100.\n",
            "Attempt 1: Enter your guess: 60\n",
            "Too low! Try again.\n",
            "Attempt 2: Enter your guess: 70\n",
            "Too low! Try again.\n",
            "Attempt 3: Enter your guess: 90\n",
            "Too low! Try again.\n",
            "Attempt 4: Enter your guess: 98\n",
            "Too low! Try again.\n",
            "Attempt 5: Enter your guess: 99\n",
            "Too low! Try again.\n",
            "Attempt 6: Enter your guess: 100\n",
            "Congratulations! You guessed the correct number in 6 attempts!\n"
          ]
        }
      ]
    }
  ]
}